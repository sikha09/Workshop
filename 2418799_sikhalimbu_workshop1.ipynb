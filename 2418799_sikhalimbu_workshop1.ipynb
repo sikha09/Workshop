{
  "nbformat": 4,
  "nbformat_minor": 0,
  "metadata": {
    "colab": {
      "provenance": []
    },
    "kernelspec": {
      "name": "python3",
      "display_name": "Python 3"
    },
    "language_info": {
      "name": "python"
    }
  },
  "cells": [
    {
      "cell_type": "code",
      "execution_count": null,
      "metadata": {
        "colab": {
          "base_uri": "https://localhost:8080/"
        },
        "id": "1j6aZpKumn1A",
        "outputId": "9529bb5a-7636-4820-9c4d-7b4005d3f108"
      },
      "outputs": [
        {
          "output_type": "stream",
          "name": "stdout",
          "text": [
            "[0, 1, 2, 3, 4, 5, 6, 7, 8, 9]\n",
            "[2 3 4]\n"
          ]
        }
      ],
      "source": [
        "a=[i for i in range(10)]\n",
        "print(a)\n",
        "import numpy as np\n",
        "\n",
        "#to create array\n",
        "#np.array9to convert list into array)\n",
        "#np.zero/np.ones(to create identity)\n",
        "#\n",
        "#np.linspace(1,1000,100)it makes the linear by equalling space\n",
        "#properties\n",
        "#arr.shape(to check the space of the array)\n",
        "#arr.size(to check the element of the array)\n",
        "#arr.ndim(\"it gives the number of dimension\")\n",
        "#to access the array we must know indexing we can index by the square bracket\n",
        "#slicing method for eg A[1:5](it also doesnt include the last element) if it is [::](it gives all the elements) if it is[::-1] it reverse all the elements\n",
        "#for multidimensional we must give the row and column A=[1,1]\n",
        "#A=[:5,5:] it indicates the row and column\n",
        "#arr.reshape()(it reshape the array according to our needs)\n",
        "#matrix multiplication=np.dot(A,B), A@B iy also multiply, np.matmul(A,B) it doesnt multiply the vector\n",
        "a=np.array((1,2,3))\n",
        "b=np.array((1))\n",
        "print(a+b)\n",
        "\n",
        "\n"
      ]
    },
    {
      "cell_type": "markdown",
      "source": [
        "4.1\n",
        "Problem - 1: Array Creation:"
      ],
      "metadata": {
        "id": "uIqWI5juhh5a"
      }
    },
    {
      "cell_type": "code",
      "source": [
        "import numpy as np\n",
        "\n",
        "a=np.empty((2,2))#Initialize an empty array with size 2X2.\n",
        "print(\"Empty_array:\",\"\\n\",a)\n",
        "\n",
        "one_array=np.ones((4,2))#one array with size 4X2\n",
        "print(\"Ones array: \\n\", one_array)\n",
        "print(\"Np.full: \",np.full(4,2))\n",
        "#The first argument should be an array-like object\n",
        "print(\"Zeros_like: \\n\",np.zeros_like(a))  # Use 'a' as a template to create a zeros array\n",
        "print(\"Ones_like: \\n\",np.ones_like(one_array)) # Use 'one_array' as a template to create a ones array\n",
        "new_list=[1,2,3,4]#converting to a numpy array\n",
        "print(\"Np.array:\",np.array(new_list))\n"
      ],
      "metadata": {
        "colab": {
          "base_uri": "https://localhost:8080/"
        },
        "id": "WZbRsmcU5XRF",
        "outputId": "7fae8f9c-c0bd-404c-f7ab-ff72e44ed87c"
      },
      "execution_count": null,
      "outputs": [
        {
          "output_type": "stream",
          "name": "stdout",
          "text": [
            "Empty_array: \n",
            " [[5.01745199e-310 0.00000000e+000]\n",
            " [0.00000000e+000 0.00000000e+000]]\n",
            "Ones array:  \n",
            " [[1. 1.]\n",
            " [1. 1.]\n",
            " [1. 1.]\n",
            " [1. 1.]]\n",
            "Np.full:  [2 2 2 2]\n",
            "Zeros_like:  \n",
            " [[0. 0.]\n",
            " [0. 0.]]\n",
            "Ones_like:  \n",
            " [[1. 1.]\n",
            " [1. 1.]\n",
            " [1. 1.]\n",
            " [1. 1.]]\n",
            "Np.array: [1 2 3 4]\n"
          ]
        }
      ]
    },
    {
      "cell_type": "markdown",
      "source": [
        "Problem - 2: Array Manipulation: Numerical Ranges and Array indexing:"
      ],
      "metadata": {
        "id": "eAWL_m4BDqSY"
      }
    },
    {
      "cell_type": "code",
      "source": [
        "import numpy as np\n",
        "\n",
        "print(\"Ranging from 10 to 49: \",\"\\n\",np.arange(10,49))# array ranging from 10 to 49\n",
        "\n",
        "array=np.array([[0,1,2],[3,4,5],[6,7,8]])\n",
        "reshaped_array=array.reshape(9,1)\n",
        "print(\"Reshaped_array: \\n\",reshaped_array)\n",
        "\n",
        "a=np.eye(3,3)\n",
        "print(\"Identity matrix: \\n\", a)\n",
        "\n",
        "random_array=np.random.random(30)\n",
        "print(\"Random_array: \\n\",random_array)\n",
        "mean_value=random_array.mean()\n",
        "print(\"MeanValue: \\n\", mean_value)\n",
        "\n",
        "mini_max=np.random.rand(10,10)\n",
        "print(\"Minimum: \\n\",np.min(mini_max))\n",
        "print(\"Maximum: \\n\",np.max(mini_max))\n",
        "\n",
        "#Instead of np.zeros_like, use np.zeros to specify the size\n",
        "zero_size=np.zeros(10) #Creating a 1-D array of 10 zeros\n",
        "#If you need a 2x2 array: zero_size = np.zeros((2, 2))\n",
        "#If you need a multi-dimensional array you should specify the dimensions as a tuple.\n",
        "\n",
        "\n",
        "remove_element = np.zeros(10)\n",
        "remove_element[4]=1\n",
        "print(\"Removing 5th element: \", remove_element)\n",
        "\n",
        "arr=[1,2,0,0,4,0]\n",
        "print(\"ReversedArray: \\n\",arr[::-1])#it prints the reverse\n",
        "print(\"OrginalArray: \\n\",arr[::])#it prints the orginal\n",
        "\n",
        "# Define the dimensions of the array\n",
        "rows = 5\n",
        "cols = 6\n",
        "\n",
        "# Create an array filled with 1s\n",
        "bordered_array = np.ones((rows, cols))\n",
        "\n",
        "# Set the inner elements to 0 using slicing\n",
        "bordered_array[1:-1, 1:-1] = 0\n",
        "\n",
        "# Print the resulting array\n",
        "print(\"BoarderedArray: \\n\",bordered_array)\n",
        "\n",
        "# Create an 8x8 matrix with a checkerboard pattern\n",
        "checkerboard = np.zeros((8, 8), dtype=int)\n",
        "checkerboard[1::2, ::2] = 1  # Fill odd rows with 1s at even columns\n",
        "checkerboard[::2, 1::2] = 1  # Fill even rows with 1s at odd columns\n",
        "\n",
        "print(\"Checkerboard Pattern:\")\n",
        "print(checkerboard)\n"
      ],
      "metadata": {
        "colab": {
          "base_uri": "https://localhost:8080/"
        },
        "id": "gIOXi_ghtZW3",
        "outputId": "db8dbdc3-7374-4c60-fbbf-495bee35c7b6"
      },
      "execution_count": null,
      "outputs": [
        {
          "output_type": "stream",
          "name": "stdout",
          "text": [
            "Ranging from 10 to 49:  \n",
            " [10 11 12 13 14 15 16 17 18 19 20 21 22 23 24 25 26 27 28 29 30 31 32 33\n",
            " 34 35 36 37 38 39 40 41 42 43 44 45 46 47 48]\n",
            "Reshaped_array: \n",
            " [[0]\n",
            " [1]\n",
            " [2]\n",
            " [3]\n",
            " [4]\n",
            " [5]\n",
            " [6]\n",
            " [7]\n",
            " [8]]\n",
            "Identity matrix: \n",
            " [[1. 0. 0.]\n",
            " [0. 1. 0.]\n",
            " [0. 0. 1.]]\n",
            "Random_array: \n",
            " [0.31746402 0.61695265 0.91939001 0.42902392 0.20876136 0.40002436\n",
            " 0.79048575 0.44811867 0.91429945 0.19453723 0.46414251 0.79786329\n",
            " 0.84048754 0.49080008 0.53035413 0.25693418 0.25848622 0.4936593\n",
            " 0.20984374 0.59604208 0.91053527 0.68491291 0.76970857 0.8843707\n",
            " 0.07807143 0.19506258 0.48494154 0.19394862 0.45743809 0.06874019]\n",
            "MeanValue: \n",
            " 0.4968466794753986\n",
            "Minimum: \n",
            " 0.021113488576928963\n",
            "Maximum: \n",
            " 0.9782613576014505\n",
            "Removing 5th element:  [0. 0. 0. 0. 1. 0. 0. 0. 0. 0.]\n",
            "ReversedArray: \n",
            " [0, 4, 0, 0, 2, 1]\n",
            "OrginalArray: \n",
            " [1, 2, 0, 0, 4, 0]\n",
            "BoarderedArray: \n",
            " [[1. 1. 1. 1. 1. 1.]\n",
            " [1. 0. 0. 0. 0. 1.]\n",
            " [1. 0. 0. 0. 0. 1.]\n",
            " [1. 0. 0. 0. 0. 1.]\n",
            " [1. 1. 1. 1. 1. 1.]]\n",
            "Checkerboard Pattern:\n",
            "[[0 1 0 1 0 1 0 1]\n",
            " [1 0 1 0 1 0 1 0]\n",
            " [0 1 0 1 0 1 0 1]\n",
            " [1 0 1 0 1 0 1 0]\n",
            " [0 1 0 1 0 1 0 1]\n",
            " [1 0 1 0 1 0 1 0]\n",
            " [0 1 0 1 0 1 0 1]\n",
            " [1 0 1 0 1 0 1 0]]\n"
          ]
        }
      ]
    },
    {
      "cell_type": "markdown",
      "source": [
        "\n",
        "Problem - 3: Array Operations:"
      ],
      "metadata": {
        "id": "M59Admkbuy_v"
      }
    },
    {
      "cell_type": "code",
      "source": [
        "import numpy as np\n",
        "\n",
        "x = np.array([[1,2],[3,5]])\n",
        "y = np.array([[5,6],[7,8]]);\n",
        "v = np.array([9,10])\n",
        "w = np.array([11,12]);\n",
        "add=np.add(x,y)\n",
        "print(\"Addition: \\n\",add)\n",
        "sub=np.subtract(x,y)\n",
        "print(\"Subtraction: \\n\",sub)\n",
        "square=np.square(x)#it only takes one argument\n",
        "print(\"Square of x: \\n\", square)\n",
        "square1=np.square(v)\n",
        "print(\"Square of v: \\n\",square1)\n",
        "product1=np.dot(v,w)\n",
        "print(\"Dot product of v and w: \\n\",product1)\n",
        "product2=np.dot(x,y)\n",
        "print(\"Dot product of x and y: \\n\",product2)\n",
        "concatenate=np.concatenate((x,y))\n",
        "print(\"Concatenation: \\n\",concatenate)\n",
        "concatenate1=np.vstack((v,w))#it prints in a vertical line\n",
        "print(\"Vertical_stacking: \\n\",concatenate1)\n",
        "# concatenate2=np.concatenate((x,v))\n",
        "# print(\"Concatenation: \\n\",concatenate2)\n",
        "#ValueError: all the input arrays must have same number of dimensions, but the array at index 0 has\n",
        "# 2 dimension(s) and the array at index 1 has 1 dimension(s)\n",
        "\n",
        "\n"
      ],
      "metadata": {
        "colab": {
          "base_uri": "https://localhost:8080/"
        },
        "id": "ilctK4R7Gsro",
        "outputId": "edaaaf0b-1276-4792-8863-fbe66487b8a3"
      },
      "execution_count": null,
      "outputs": [
        {
          "output_type": "stream",
          "name": "stdout",
          "text": [
            "Addition: \n",
            " [[ 6  8]\n",
            " [10 13]]\n",
            "Subtraction: \n",
            " [[-4 -4]\n",
            " [-4 -3]]\n",
            "Square of x: \n",
            " [[ 1  4]\n",
            " [ 9 25]]\n",
            "Square of v: \n",
            " [ 81 100]\n",
            "Dot product of v and w: \n",
            " 219\n",
            "Dot product of x and y: \n",
            " [[19 22]\n",
            " [50 58]]\n",
            "Concatenation: \n",
            " [[1 2]\n",
            " [3 5]\n",
            " [5 6]\n",
            " [7 8]]\n",
            "Vertical_stacking: \n",
            " [[ 9 10]\n",
            " [11 12]]\n"
          ]
        }
      ]
    },
    {
      "cell_type": "markdown",
      "source": [
        "Problem - 4: Matrix Operations:"
      ],
      "metadata": {
        "id": "PbQxL0YZ7cHI"
      }
    },
    {
      "cell_type": "code",
      "source": [
        "import numpy as np\n",
        "\n",
        "A = np.array([[3,4],[7,8]])\n",
        "B = np.array([[5,3],[2,1]])\n",
        "inverse=np.linalg.inv(A)\n",
        "# print(\"Inverse of A: \\n\",inverse)\n",
        "dotproduct=np.dot(A,inverse)\n",
        "print(dotproduct)\n",
        "\n",
        "c=np.dot(A,B)\n",
        "print(\"AB: \\n\",c)\n",
        "d=np.dot(B,A)\n",
        "print(\"BA: \\n\",d)\n",
        "print(\"Hence AB doesnt equal BA\")\n",
        "\n",
        "e=np.dot(A,B)\n",
        "transpose1=np.transpose((e))\n",
        "print(\"(AB)^t: \\n\",transpose1)\n",
        "\n",
        "transpose2=np.transpose((A))\n",
        "transpose3=np.transpose((B))\n",
        "f=np.dot(transpose3,transpose2)\n",
        "print(\"B^t.A^t: \\n\", f)\n",
        "print(\"Hence prove (AB)^t = B^tA^t.\")\n",
        "\n"
      ],
      "metadata": {
        "colab": {
          "base_uri": "https://localhost:8080/"
        },
        "id": "hC8AX3cq7fJp",
        "outputId": "d103422b-f62c-4728-ba00-c50cd821eb4c"
      },
      "execution_count": null,
      "outputs": [
        {
          "output_type": "stream",
          "name": "stdout",
          "text": [
            "[[1.00000000e+00 0.00000000e+00]\n",
            " [1.77635684e-15 1.00000000e+00]]\n",
            "AB: \n",
            " [[23 13]\n",
            " [51 29]]\n",
            "BA: \n",
            " [[36 44]\n",
            " [13 16]]\n",
            "Hence AB doesnt equal BA\n",
            "(AB)^t: \n",
            " [[23 51]\n",
            " [13 29]]\n",
            "B^t.A^t: \n",
            " [[23 51]\n",
            " [13 29]]\n",
            "Hence prove (AB)^t = B^tA^t.\n"
          ]
        }
      ]
    },
    {
      "cell_type": "markdown",
      "source": [
        "Solve the following system of Linear equation using Inverse Methods.\n",
        "\n",
        "2x − 3y + z = −1\n",
        "x − y + 2z = −3\n",
        "3x + y − z = 9"
      ],
      "metadata": {
        "id": "RBEhHdtH__c6"
      }
    },
    {
      "cell_type": "code",
      "source": [
        "a=np.array([[2,-3,1],[1,-1,2],[3,1,-1]])\n",
        "b=np.array([-1,-3,9])\n",
        "A=np.linalg.inv(a)\n",
        "B=np.linalg.solve(A,b)\n",
        "# Define x, y, and z as numpy arrays or lists before assigning values to their elements.\n",
        "x = np.zeros(1)  # Initialize x as a NumPy array with 3 elements, all initialized to 0\n",
        "y = np.zeros(2)  # Initialize y as a NumPy array with 3 elements, all initialized to 0\n",
        "z = np.zeros(3)  # Initialize z as a NumPy array with 3 elements, all initialized to 0\n",
        "# Now you can assign values to the elements of x, y, and z\n",
        "x[0] = B[0]\n",
        "y[1] = B[1]\n",
        "z[2] = B[2]\n",
        "print(x,y,z)\n"
      ],
      "metadata": {
        "id": "uwfdTvkG__D4",
        "colab": {
          "base_uri": "https://localhost:8080/"
        },
        "outputId": "8ee32aaa-cb4c-45ad-d8c5-05a4c358c6c2"
      },
      "execution_count": null,
      "outputs": [
        {
          "output_type": "stream",
          "name": "stdout",
          "text": [
            "[16.] [ 0. 20.] [  0.   0. -15.]\n"
          ]
        }
      ]
    }
  ]
}