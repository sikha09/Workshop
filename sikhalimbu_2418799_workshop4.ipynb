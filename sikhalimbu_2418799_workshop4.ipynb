{
  "nbformat": 4,
  "nbformat_minor": 0,
  "metadata": {
    "colab": {
      "provenance": []
    },
    "kernelspec": {
      "name": "python3",
      "display_name": "Python 3"
    },
    "language_info": {
      "name": "python"
    }
  },
  "cells": [
    {
      "cell_type": "code",
      "execution_count": 1,
      "metadata": {
        "id": "r0wVXpd-8rkQ"
      },
      "outputs": [],
      "source": [
        "import pandas as pd"
      ]
    },
    {
      "cell_type": "markdown",
      "source": [
        "**Problem - 1: Perform a classification task with knn from scratch.**"
      ],
      "metadata": {
        "id": "TxCYr5rL-UtA"
      }
    },
    {
      "cell_type": "markdown",
      "source": [
        "Load the Dataset:\n",
        "• Read the dataset into a pandas DataFrame.\n",
        "• Display the first few rows and perform exploratory data analysis (EDA) to understand the dataset\n",
        "(e.g., check data types, missing values, summary statistics)."
      ],
      "metadata": {
        "id": "-0Qggwg3-RzY"
      }
    },
    {
      "cell_type": "code",
      "source": [
        "df=pd.read_csv(\"/content/drive/MyDrive/diabetes.csv\")\n",
        "df.head()"
      ],
      "metadata": {
        "colab": {
          "base_uri": "https://localhost:8080/",
          "height": 226
        },
        "id": "DPQovRWL9bJ3",
        "outputId": "b7efdd3b-18fe-41c3-a243-fc8b87a11227"
      },
      "execution_count": 2,
      "outputs": [
        {
          "output_type": "execute_result",
          "data": {
            "text/plain": [
              "   Pregnancies  Glucose  BloodPressure  SkinThickness  Insulin   BMI  \\\n",
              "0            6      148             72             35        0  33.6   \n",
              "1            1       85             66             29        0  26.6   \n",
              "2            8      183             64              0        0  23.3   \n",
              "3            1       89             66             23       94  28.1   \n",
              "4            0      137             40             35      168  43.1   \n",
              "\n",
              "   DiabetesPedigreeFunction  Age  Outcome  \n",
              "0                     0.627   50        1  \n",
              "1                     0.351   31        0  \n",
              "2                     0.672   32        1  \n",
              "3                     0.167   21        0  \n",
              "4                     2.288   33        1  "
            ],
            "text/html": [
              "\n",
              "  <div id=\"df-2518ed43-46bc-4fac-bf57-687e633d4482\" class=\"colab-df-container\">\n",
              "    <div>\n",
              "<style scoped>\n",
              "    .dataframe tbody tr th:only-of-type {\n",
              "        vertical-align: middle;\n",
              "    }\n",
              "\n",
              "    .dataframe tbody tr th {\n",
              "        vertical-align: top;\n",
              "    }\n",
              "\n",
              "    .dataframe thead th {\n",
              "        text-align: right;\n",
              "    }\n",
              "</style>\n",
              "<table border=\"1\" class=\"dataframe\">\n",
              "  <thead>\n",
              "    <tr style=\"text-align: right;\">\n",
              "      <th></th>\n",
              "      <th>Pregnancies</th>\n",
              "      <th>Glucose</th>\n",
              "      <th>BloodPressure</th>\n",
              "      <th>SkinThickness</th>\n",
              "      <th>Insulin</th>\n",
              "      <th>BMI</th>\n",
              "      <th>DiabetesPedigreeFunction</th>\n",
              "      <th>Age</th>\n",
              "      <th>Outcome</th>\n",
              "    </tr>\n",
              "  </thead>\n",
              "  <tbody>\n",
              "    <tr>\n",
              "      <th>0</th>\n",
              "      <td>6</td>\n",
              "      <td>148</td>\n",
              "      <td>72</td>\n",
              "      <td>35</td>\n",
              "      <td>0</td>\n",
              "      <td>33.6</td>\n",
              "      <td>0.627</td>\n",
              "      <td>50</td>\n",
              "      <td>1</td>\n",
              "    </tr>\n",
              "    <tr>\n",
              "      <th>1</th>\n",
              "      <td>1</td>\n",
              "      <td>85</td>\n",
              "      <td>66</td>\n",
              "      <td>29</td>\n",
              "      <td>0</td>\n",
              "      <td>26.6</td>\n",
              "      <td>0.351</td>\n",
              "      <td>31</td>\n",
              "      <td>0</td>\n",
              "    </tr>\n",
              "    <tr>\n",
              "      <th>2</th>\n",
              "      <td>8</td>\n",
              "      <td>183</td>\n",
              "      <td>64</td>\n",
              "      <td>0</td>\n",
              "      <td>0</td>\n",
              "      <td>23.3</td>\n",
              "      <td>0.672</td>\n",
              "      <td>32</td>\n",
              "      <td>1</td>\n",
              "    </tr>\n",
              "    <tr>\n",
              "      <th>3</th>\n",
              "      <td>1</td>\n",
              "      <td>89</td>\n",
              "      <td>66</td>\n",
              "      <td>23</td>\n",
              "      <td>94</td>\n",
              "      <td>28.1</td>\n",
              "      <td>0.167</td>\n",
              "      <td>21</td>\n",
              "      <td>0</td>\n",
              "    </tr>\n",
              "    <tr>\n",
              "      <th>4</th>\n",
              "      <td>0</td>\n",
              "      <td>137</td>\n",
              "      <td>40</td>\n",
              "      <td>35</td>\n",
              "      <td>168</td>\n",
              "      <td>43.1</td>\n",
              "      <td>2.288</td>\n",
              "      <td>33</td>\n",
              "      <td>1</td>\n",
              "    </tr>\n",
              "  </tbody>\n",
              "</table>\n",
              "</div>\n",
              "    <div class=\"colab-df-buttons\">\n",
              "\n",
              "  <div class=\"colab-df-container\">\n",
              "    <button class=\"colab-df-convert\" onclick=\"convertToInteractive('df-2518ed43-46bc-4fac-bf57-687e633d4482')\"\n",
              "            title=\"Convert this dataframe to an interactive table.\"\n",
              "            style=\"display:none;\">\n",
              "\n",
              "  <svg xmlns=\"http://www.w3.org/2000/svg\" height=\"24px\" viewBox=\"0 -960 960 960\">\n",
              "    <path d=\"M120-120v-720h720v720H120Zm60-500h600v-160H180v160Zm220 220h160v-160H400v160Zm0 220h160v-160H400v160ZM180-400h160v-160H180v160Zm440 0h160v-160H620v160ZM180-180h160v-160H180v160Zm440 0h160v-160H620v160Z\"/>\n",
              "  </svg>\n",
              "    </button>\n",
              "\n",
              "  <style>\n",
              "    .colab-df-container {\n",
              "      display:flex;\n",
              "      gap: 12px;\n",
              "    }\n",
              "\n",
              "    .colab-df-convert {\n",
              "      background-color: #E8F0FE;\n",
              "      border: none;\n",
              "      border-radius: 50%;\n",
              "      cursor: pointer;\n",
              "      display: none;\n",
              "      fill: #1967D2;\n",
              "      height: 32px;\n",
              "      padding: 0 0 0 0;\n",
              "      width: 32px;\n",
              "    }\n",
              "\n",
              "    .colab-df-convert:hover {\n",
              "      background-color: #E2EBFA;\n",
              "      box-shadow: 0px 1px 2px rgba(60, 64, 67, 0.3), 0px 1px 3px 1px rgba(60, 64, 67, 0.15);\n",
              "      fill: #174EA6;\n",
              "    }\n",
              "\n",
              "    .colab-df-buttons div {\n",
              "      margin-bottom: 4px;\n",
              "    }\n",
              "\n",
              "    [theme=dark] .colab-df-convert {\n",
              "      background-color: #3B4455;\n",
              "      fill: #D2E3FC;\n",
              "    }\n",
              "\n",
              "    [theme=dark] .colab-df-convert:hover {\n",
              "      background-color: #434B5C;\n",
              "      box-shadow: 0px 1px 3px 1px rgba(0, 0, 0, 0.15);\n",
              "      filter: drop-shadow(0px 1px 2px rgba(0, 0, 0, 0.3));\n",
              "      fill: #FFFFFF;\n",
              "    }\n",
              "  </style>\n",
              "\n",
              "    <script>\n",
              "      const buttonEl =\n",
              "        document.querySelector('#df-2518ed43-46bc-4fac-bf57-687e633d4482 button.colab-df-convert');\n",
              "      buttonEl.style.display =\n",
              "        google.colab.kernel.accessAllowed ? 'block' : 'none';\n",
              "\n",
              "      async function convertToInteractive(key) {\n",
              "        const element = document.querySelector('#df-2518ed43-46bc-4fac-bf57-687e633d4482');\n",
              "        const dataTable =\n",
              "          await google.colab.kernel.invokeFunction('convertToInteractive',\n",
              "                                                    [key], {});\n",
              "        if (!dataTable) return;\n",
              "\n",
              "        const docLinkHtml = 'Like what you see? Visit the ' +\n",
              "          '<a target=\"_blank\" href=https://colab.research.google.com/notebooks/data_table.ipynb>data table notebook</a>'\n",
              "          + ' to learn more about interactive tables.';\n",
              "        element.innerHTML = '';\n",
              "        dataTable['output_type'] = 'display_data';\n",
              "        await google.colab.output.renderOutput(dataTable, element);\n",
              "        const docLink = document.createElement('div');\n",
              "        docLink.innerHTML = docLinkHtml;\n",
              "        element.appendChild(docLink);\n",
              "      }\n",
              "    </script>\n",
              "  </div>\n",
              "\n",
              "\n",
              "<div id=\"df-d5649b02-66ef-44e9-8fb4-4648dd66d1a9\">\n",
              "  <button class=\"colab-df-quickchart\" onclick=\"quickchart('df-d5649b02-66ef-44e9-8fb4-4648dd66d1a9')\"\n",
              "            title=\"Suggest charts\"\n",
              "            style=\"display:none;\">\n",
              "\n",
              "<svg xmlns=\"http://www.w3.org/2000/svg\" height=\"24px\"viewBox=\"0 0 24 24\"\n",
              "     width=\"24px\">\n",
              "    <g>\n",
              "        <path d=\"M19 3H5c-1.1 0-2 .9-2 2v14c0 1.1.9 2 2 2h14c1.1 0 2-.9 2-2V5c0-1.1-.9-2-2-2zM9 17H7v-7h2v7zm4 0h-2V7h2v10zm4 0h-2v-4h2v4z\"/>\n",
              "    </g>\n",
              "</svg>\n",
              "  </button>\n",
              "\n",
              "<style>\n",
              "  .colab-df-quickchart {\n",
              "      --bg-color: #E8F0FE;\n",
              "      --fill-color: #1967D2;\n",
              "      --hover-bg-color: #E2EBFA;\n",
              "      --hover-fill-color: #174EA6;\n",
              "      --disabled-fill-color: #AAA;\n",
              "      --disabled-bg-color: #DDD;\n",
              "  }\n",
              "\n",
              "  [theme=dark] .colab-df-quickchart {\n",
              "      --bg-color: #3B4455;\n",
              "      --fill-color: #D2E3FC;\n",
              "      --hover-bg-color: #434B5C;\n",
              "      --hover-fill-color: #FFFFFF;\n",
              "      --disabled-bg-color: #3B4455;\n",
              "      --disabled-fill-color: #666;\n",
              "  }\n",
              "\n",
              "  .colab-df-quickchart {\n",
              "    background-color: var(--bg-color);\n",
              "    border: none;\n",
              "    border-radius: 50%;\n",
              "    cursor: pointer;\n",
              "    display: none;\n",
              "    fill: var(--fill-color);\n",
              "    height: 32px;\n",
              "    padding: 0;\n",
              "    width: 32px;\n",
              "  }\n",
              "\n",
              "  .colab-df-quickchart:hover {\n",
              "    background-color: var(--hover-bg-color);\n",
              "    box-shadow: 0 1px 2px rgba(60, 64, 67, 0.3), 0 1px 3px 1px rgba(60, 64, 67, 0.15);\n",
              "    fill: var(--button-hover-fill-color);\n",
              "  }\n",
              "\n",
              "  .colab-df-quickchart-complete:disabled,\n",
              "  .colab-df-quickchart-complete:disabled:hover {\n",
              "    background-color: var(--disabled-bg-color);\n",
              "    fill: var(--disabled-fill-color);\n",
              "    box-shadow: none;\n",
              "  }\n",
              "\n",
              "  .colab-df-spinner {\n",
              "    border: 2px solid var(--fill-color);\n",
              "    border-color: transparent;\n",
              "    border-bottom-color: var(--fill-color);\n",
              "    animation:\n",
              "      spin 1s steps(1) infinite;\n",
              "  }\n",
              "\n",
              "  @keyframes spin {\n",
              "    0% {\n",
              "      border-color: transparent;\n",
              "      border-bottom-color: var(--fill-color);\n",
              "      border-left-color: var(--fill-color);\n",
              "    }\n",
              "    20% {\n",
              "      border-color: transparent;\n",
              "      border-left-color: var(--fill-color);\n",
              "      border-top-color: var(--fill-color);\n",
              "    }\n",
              "    30% {\n",
              "      border-color: transparent;\n",
              "      border-left-color: var(--fill-color);\n",
              "      border-top-color: var(--fill-color);\n",
              "      border-right-color: var(--fill-color);\n",
              "    }\n",
              "    40% {\n",
              "      border-color: transparent;\n",
              "      border-right-color: var(--fill-color);\n",
              "      border-top-color: var(--fill-color);\n",
              "    }\n",
              "    60% {\n",
              "      border-color: transparent;\n",
              "      border-right-color: var(--fill-color);\n",
              "    }\n",
              "    80% {\n",
              "      border-color: transparent;\n",
              "      border-right-color: var(--fill-color);\n",
              "      border-bottom-color: var(--fill-color);\n",
              "    }\n",
              "    90% {\n",
              "      border-color: transparent;\n",
              "      border-bottom-color: var(--fill-color);\n",
              "    }\n",
              "  }\n",
              "</style>\n",
              "\n",
              "  <script>\n",
              "    async function quickchart(key) {\n",
              "      const quickchartButtonEl =\n",
              "        document.querySelector('#' + key + ' button');\n",
              "      quickchartButtonEl.disabled = true;  // To prevent multiple clicks.\n",
              "      quickchartButtonEl.classList.add('colab-df-spinner');\n",
              "      try {\n",
              "        const charts = await google.colab.kernel.invokeFunction(\n",
              "            'suggestCharts', [key], {});\n",
              "      } catch (error) {\n",
              "        console.error('Error during call to suggestCharts:', error);\n",
              "      }\n",
              "      quickchartButtonEl.classList.remove('colab-df-spinner');\n",
              "      quickchartButtonEl.classList.add('colab-df-quickchart-complete');\n",
              "    }\n",
              "    (() => {\n",
              "      let quickchartButtonEl =\n",
              "        document.querySelector('#df-d5649b02-66ef-44e9-8fb4-4648dd66d1a9 button');\n",
              "      quickchartButtonEl.style.display =\n",
              "        google.colab.kernel.accessAllowed ? 'block' : 'none';\n",
              "    })();\n",
              "  </script>\n",
              "</div>\n",
              "\n",
              "    </div>\n",
              "  </div>\n"
            ],
            "application/vnd.google.colaboratory.intrinsic+json": {
              "type": "dataframe",
              "variable_name": "df",
              "summary": "{\n  \"name\": \"df\",\n  \"rows\": 768,\n  \"fields\": [\n    {\n      \"column\": \"Pregnancies\",\n      \"properties\": {\n        \"dtype\": \"number\",\n        \"std\": 3,\n        \"min\": 0,\n        \"max\": 17,\n        \"num_unique_values\": 17,\n        \"samples\": [\n          6,\n          1,\n          3\n        ],\n        \"semantic_type\": \"\",\n        \"description\": \"\"\n      }\n    },\n    {\n      \"column\": \"Glucose\",\n      \"properties\": {\n        \"dtype\": \"number\",\n        \"std\": 31,\n        \"min\": 0,\n        \"max\": 199,\n        \"num_unique_values\": 136,\n        \"samples\": [\n          151,\n          101,\n          112\n        ],\n        \"semantic_type\": \"\",\n        \"description\": \"\"\n      }\n    },\n    {\n      \"column\": \"BloodPressure\",\n      \"properties\": {\n        \"dtype\": \"number\",\n        \"std\": 19,\n        \"min\": 0,\n        \"max\": 122,\n        \"num_unique_values\": 47,\n        \"samples\": [\n          86,\n          46,\n          85\n        ],\n        \"semantic_type\": \"\",\n        \"description\": \"\"\n      }\n    },\n    {\n      \"column\": \"SkinThickness\",\n      \"properties\": {\n        \"dtype\": \"number\",\n        \"std\": 15,\n        \"min\": 0,\n        \"max\": 99,\n        \"num_unique_values\": 51,\n        \"samples\": [\n          7,\n          12,\n          48\n        ],\n        \"semantic_type\": \"\",\n        \"description\": \"\"\n      }\n    },\n    {\n      \"column\": \"Insulin\",\n      \"properties\": {\n        \"dtype\": \"number\",\n        \"std\": 115,\n        \"min\": 0,\n        \"max\": 846,\n        \"num_unique_values\": 186,\n        \"samples\": [\n          52,\n          41,\n          183\n        ],\n        \"semantic_type\": \"\",\n        \"description\": \"\"\n      }\n    },\n    {\n      \"column\": \"BMI\",\n      \"properties\": {\n        \"dtype\": \"number\",\n        \"std\": 7.8841603203754405,\n        \"min\": 0.0,\n        \"max\": 67.1,\n        \"num_unique_values\": 248,\n        \"samples\": [\n          19.9,\n          31.0,\n          38.1\n        ],\n        \"semantic_type\": \"\",\n        \"description\": \"\"\n      }\n    },\n    {\n      \"column\": \"DiabetesPedigreeFunction\",\n      \"properties\": {\n        \"dtype\": \"number\",\n        \"std\": 0.33132859501277484,\n        \"min\": 0.078,\n        \"max\": 2.42,\n        \"num_unique_values\": 517,\n        \"samples\": [\n          1.731,\n          0.426,\n          0.138\n        ],\n        \"semantic_type\": \"\",\n        \"description\": \"\"\n      }\n    },\n    {\n      \"column\": \"Age\",\n      \"properties\": {\n        \"dtype\": \"number\",\n        \"std\": 11,\n        \"min\": 21,\n        \"max\": 81,\n        \"num_unique_values\": 52,\n        \"samples\": [\n          60,\n          47,\n          72\n        ],\n        \"semantic_type\": \"\",\n        \"description\": \"\"\n      }\n    },\n    {\n      \"column\": \"Outcome\",\n      \"properties\": {\n        \"dtype\": \"number\",\n        \"std\": 0,\n        \"min\": 0,\n        \"max\": 1,\n        \"num_unique_values\": 2,\n        \"samples\": [\n          0,\n          1\n        ],\n        \"semantic_type\": \"\",\n        \"description\": \"\"\n      }\n    }\n  ]\n}"
            }
          },
          "metadata": {},
          "execution_count": 2
        }
      ]
    },
    {
      "cell_type": "code",
      "source": [
        "df.dtypes#checks the datatype"
      ],
      "metadata": {
        "colab": {
          "base_uri": "https://localhost:8080/",
          "height": 366
        },
        "id": "yMCDDx-n-ehP",
        "outputId": "378be775-d5d6-4923-ef16-02cbd167b012"
      },
      "execution_count": 3,
      "outputs": [
        {
          "output_type": "execute_result",
          "data": {
            "text/plain": [
              "Pregnancies                   int64\n",
              "Glucose                       int64\n",
              "BloodPressure                 int64\n",
              "SkinThickness                 int64\n",
              "Insulin                       int64\n",
              "BMI                         float64\n",
              "DiabetesPedigreeFunction    float64\n",
              "Age                           int64\n",
              "Outcome                       int64\n",
              "dtype: object"
            ],
            "text/html": [
              "<div>\n",
              "<style scoped>\n",
              "    .dataframe tbody tr th:only-of-type {\n",
              "        vertical-align: middle;\n",
              "    }\n",
              "\n",
              "    .dataframe tbody tr th {\n",
              "        vertical-align: top;\n",
              "    }\n",
              "\n",
              "    .dataframe thead th {\n",
              "        text-align: right;\n",
              "    }\n",
              "</style>\n",
              "<table border=\"1\" class=\"dataframe\">\n",
              "  <thead>\n",
              "    <tr style=\"text-align: right;\">\n",
              "      <th></th>\n",
              "      <th>0</th>\n",
              "    </tr>\n",
              "  </thead>\n",
              "  <tbody>\n",
              "    <tr>\n",
              "      <th>Pregnancies</th>\n",
              "      <td>int64</td>\n",
              "    </tr>\n",
              "    <tr>\n",
              "      <th>Glucose</th>\n",
              "      <td>int64</td>\n",
              "    </tr>\n",
              "    <tr>\n",
              "      <th>BloodPressure</th>\n",
              "      <td>int64</td>\n",
              "    </tr>\n",
              "    <tr>\n",
              "      <th>SkinThickness</th>\n",
              "      <td>int64</td>\n",
              "    </tr>\n",
              "    <tr>\n",
              "      <th>Insulin</th>\n",
              "      <td>int64</td>\n",
              "    </tr>\n",
              "    <tr>\n",
              "      <th>BMI</th>\n",
              "      <td>float64</td>\n",
              "    </tr>\n",
              "    <tr>\n",
              "      <th>DiabetesPedigreeFunction</th>\n",
              "      <td>float64</td>\n",
              "    </tr>\n",
              "    <tr>\n",
              "      <th>Age</th>\n",
              "      <td>int64</td>\n",
              "    </tr>\n",
              "    <tr>\n",
              "      <th>Outcome</th>\n",
              "      <td>int64</td>\n",
              "    </tr>\n",
              "  </tbody>\n",
              "</table>\n",
              "</div><br><label><b>dtype:</b> object</label>"
            ]
          },
          "metadata": {},
          "execution_count": 3
        }
      ]
    },
    {
      "cell_type": "code",
      "source": [
        "df.isnull().sum()#checls the null value and count if there is some"
      ],
      "metadata": {
        "colab": {
          "base_uri": "https://localhost:8080/",
          "height": 366
        },
        "id": "CHLeiNR_9jlC",
        "outputId": "3d4cae59-cdc0-4c65-b9c4-7339b2c73c79"
      },
      "execution_count": 4,
      "outputs": [
        {
          "output_type": "execute_result",
          "data": {
            "text/plain": [
              "Pregnancies                 0\n",
              "Glucose                     0\n",
              "BloodPressure               0\n",
              "SkinThickness               0\n",
              "Insulin                     0\n",
              "BMI                         0\n",
              "DiabetesPedigreeFunction    0\n",
              "Age                         0\n",
              "Outcome                     0\n",
              "dtype: int64"
            ],
            "text/html": [
              "<div>\n",
              "<style scoped>\n",
              "    .dataframe tbody tr th:only-of-type {\n",
              "        vertical-align: middle;\n",
              "    }\n",
              "\n",
              "    .dataframe tbody tr th {\n",
              "        vertical-align: top;\n",
              "    }\n",
              "\n",
              "    .dataframe thead th {\n",
              "        text-align: right;\n",
              "    }\n",
              "</style>\n",
              "<table border=\"1\" class=\"dataframe\">\n",
              "  <thead>\n",
              "    <tr style=\"text-align: right;\">\n",
              "      <th></th>\n",
              "      <th>0</th>\n",
              "    </tr>\n",
              "  </thead>\n",
              "  <tbody>\n",
              "    <tr>\n",
              "      <th>Pregnancies</th>\n",
              "      <td>0</td>\n",
              "    </tr>\n",
              "    <tr>\n",
              "      <th>Glucose</th>\n",
              "      <td>0</td>\n",
              "    </tr>\n",
              "    <tr>\n",
              "      <th>BloodPressure</th>\n",
              "      <td>0</td>\n",
              "    </tr>\n",
              "    <tr>\n",
              "      <th>SkinThickness</th>\n",
              "      <td>0</td>\n",
              "    </tr>\n",
              "    <tr>\n",
              "      <th>Insulin</th>\n",
              "      <td>0</td>\n",
              "    </tr>\n",
              "    <tr>\n",
              "      <th>BMI</th>\n",
              "      <td>0</td>\n",
              "    </tr>\n",
              "    <tr>\n",
              "      <th>DiabetesPedigreeFunction</th>\n",
              "      <td>0</td>\n",
              "    </tr>\n",
              "    <tr>\n",
              "      <th>Age</th>\n",
              "      <td>0</td>\n",
              "    </tr>\n",
              "    <tr>\n",
              "      <th>Outcome</th>\n",
              "      <td>0</td>\n",
              "    </tr>\n",
              "  </tbody>\n",
              "</table>\n",
              "</div><br><label><b>dtype:</b> int64</label>"
            ]
          },
          "metadata": {},
          "execution_count": 4
        }
      ]
    },
    {
      "cell_type": "markdown",
      "source": [
        "2. Handle Missing Data:\n",
        "• Handle any missing values appropriately, either by dropping or imputing them based on the data."
      ],
      "metadata": {
        "id": "JSYHxGog_E_C"
      }
    },
    {
      "cell_type": "code",
      "source": [
        "# Check if there are any null values in the DataFrame\n",
        "if df.isnull().values.any():\n",
        "    # If there are null values, fill them with 0\n",
        "    df = df.fillna(0)  # Note: Using df = ... to update the DataFrame\n",
        "else:\n",
        "  print(\"There is no any missing value\")"
      ],
      "metadata": {
        "colab": {
          "base_uri": "https://localhost:8080/"
        },
        "id": "l8cGi0Wh_EoW",
        "outputId": "c38a6cba-6f1f-4583-d363-5b9ffb09eb2f"
      },
      "execution_count": 5,
      "outputs": [
        {
          "output_type": "stream",
          "name": "stdout",
          "text": [
            "There is no any missing value\n"
          ]
        }
      ]
    },
    {
      "cell_type": "markdown",
      "source": [
        "Feature Engineering:\n",
        "• Separate the feature matrix (X) and target variable (y).\n",
        "• Perform a train - test split from scratch using a 70% − 30% ratio."
      ],
      "metadata": {
        "id": "rCyWE3tLAIA0"
      }
    },
    {
      "cell_type": "code",
      "source": [
        "import numpy as np\n",
        "# Separate features (X) and target (y)\n",
        "X = df.drop(columns=['Pregnancies']).values # Convert features to NumPy array\n",
        "y = df['Pregnancies'].values # Convert target to NumPy array\n",
        "# Define a function for train-test split from scratch\n",
        "def train_test_split_scratch(X, y, test_size=0.3, random_seed=42):\n",
        "  np.random.seed(random_seed)\n",
        "  indices = np.arange(X.shape[0])\n",
        "  np.random.shuffle(indices) # Shuffle the indices\n",
        "  test_split_size = int(len(X) * test_size)\n",
        "  test_indices = indices[:test_split_size]\n",
        "  train_indices = indices[test_split_size:]\n",
        "  X_train, X_test = X[train_indices], X[test_indices]\n",
        "  y_train, y_test = y[train_indices], y[test_indices]\n",
        "\n",
        "  return X_train, X_test, y_train, y_test\n",
        "# Perform the train-test split\n",
        "X_train, X_test, y_train, y_test = train_test_split_scratch(X, y, test_size=0.3)\n",
        "# Output shapes to verify\n",
        "print(\"Shape of X_train:\", X_train.shape)\n",
        "print(\"Shape of X_test:\", X_test.shape)\n",
        "print(\"Shape of y_train:\", y_train.shape)\n",
        "print(\"Shape of y_test:\", y_test.shape)"
      ],
      "metadata": {
        "colab": {
          "base_uri": "https://localhost:8080/"
        },
        "id": "rvSSzt0yAK1h",
        "outputId": "04786dc6-a20c-476b-b12c-3dd2a8f325d6"
      },
      "execution_count": 6,
      "outputs": [
        {
          "output_type": "stream",
          "name": "stdout",
          "text": [
            "Shape of X_train: (538, 8)\n",
            "Shape of X_test: (230, 8)\n",
            "Shape of y_train: (538,)\n",
            "Shape of y_test: (230,)\n"
          ]
        }
      ]
    },
    {
      "cell_type": "markdown",
      "source": [
        "4. Implement KNN:\n",
        "• Build the KNN algorithm from scratch (no libraries like sickit-learn for KNN).\n",
        "• Compute distances using Euclidean distance.\n",
        "• Write functions for:\n",
        "– Predicting the class for a single query.\n",
        "– Predicting classes for all test samples.\n",
        "• Evaluate the performance using accuracy."
      ],
      "metadata": {
        "id": "U5G1a3lHBWyr"
      }
    },
    {
      "cell_type": "code",
      "source": [
        "#checking distance\n",
        "import numpy as np\n",
        "\n",
        "def euclidean_distance(x1, x2):\n",
        "  if x1.shape != x2.shape:\n",
        "    raise ValueError(\"Points must have the same dimensions to calculate euclidean distance\")\n",
        "  distance = np.sqrt(np.sum((x1 - x2)**2)) # Calculate distance inside the function\n",
        "\n",
        "  return distance # Return the calculated distance"
      ],
      "metadata": {
        "id": "117g_MErBRqq"
      },
      "execution_count": 7,
      "outputs": []
    },
    {
      "cell_type": "code",
      "source": [
        "# Test case for the function\n",
        "try:\n",
        "  # Define two points\n",
        "  x = np.array([3, 4])\n",
        "  y = np.array([0, 0])\n",
        "  # Calculate the distance\n",
        "  result = euclidean_distance(x, y)\n",
        "  # Check if the result matches the expected value (e.g., sqrt(3^2 + 4^2) = 5)\n",
        "  expected_result = 5.0\n",
        "  assert np.isclose(result, expected_result), f\"Expected {expected_result}, but got {result}\"\n",
        "  print(\"Test passed successfully!\")\n",
        "except ValueError as ve:\n",
        "  print(f\"ValueError: {ve}\")\n",
        "except AssertionError as ae:\n",
        "  print(f\"AssertionError: {ae}\")\n",
        "except Exception as e:\n",
        "  print(f\"An unexpected error occurred: {e}\")"
      ],
      "metadata": {
        "colab": {
          "base_uri": "https://localhost:8080/"
        },
        "id": "uzIleVwtHfKN",
        "outputId": "d0b6c97a-505a-4666-9f4a-1529db531dde"
      },
      "execution_count": 8,
      "outputs": [
        {
          "output_type": "stream",
          "name": "stdout",
          "text": [
            "Test passed successfully!\n"
          ]
        }
      ]
    },
    {
      "cell_type": "code",
      "source": [
        "# Function for KNN prediction for a single query\n",
        "def knn_predict_single(query, X_train, y_train, k=3):\n",
        "  distances = [euclidean_distance(query, x) for x in X_train]\n",
        "  sorted_indices = np.argsort(distances)\n",
        "  nearest_indices = sorted_indices[:k]\n",
        "  nearest_labels = y_train[nearest_indices]\n",
        "  prediction = np.bincount(nearest_labels).argmax()\n",
        "  return prediction"
      ],
      "metadata": {
        "id": "d-gr3d6nIBA3"
      },
      "execution_count": 9,
      "outputs": []
    },
    {
      "cell_type": "code",
      "source": [
        "# Function to test KNN for all test samples\n",
        "def knn_predict(X_test, X_train, y_train, k=3):\n",
        "  predictions = [knn_predict_single(x, X_train, y_train, k) for x in X_test]\n",
        "  return np.array(predictions)"
      ],
      "metadata": {
        "id": "MyEUfeuVIUdO"
      },
      "execution_count": 10,
      "outputs": []
    },
    {
      "cell_type": "code",
      "source": [
        "# Test case for KNN on the Titanic dataset\n",
        "# Assume X_train, X_test, y_train, and y_test have been prepared using the code above\n",
        "try:\n",
        "# Define the test set for the test case\n",
        "  X_test_sample = X_test[:5] # Taking a small subset for testing\n",
        "  y_test_sample = y_test[:5] # Corresponding labels for the subset\n",
        "  # Make predictions\n",
        "  predictions = knn_predict(X_test_sample, X_train, y_train, k=3)\n",
        "  # Print test results\n",
        "  print(\"Predictions:\", predictions)\n",
        "  print(\"Actual labels:\", y_test_sample)\n",
        "  # Check if predictions match expected format\n",
        "  assert predictions.shape == y_test_sample.shape, \"The shape of predictions does not match the shape of the actual labels.\"\n",
        "  print(\"Test case passed successfully!\")\n",
        "except AssertionError as ae:\n",
        "  print(f\"AssertionError: {ae}\")\n",
        "except Exception as e:\n",
        "  print(f\"An unexpected error occurred: {e}\")"
      ],
      "metadata": {
        "colab": {
          "base_uri": "https://localhost:8080/"
        },
        "id": "J45EZOXeIhfy",
        "outputId": "0c5e0cc3-af59-4ba9-a4f0-f4368636a958"
      },
      "execution_count": 11,
      "outputs": [
        {
          "output_type": "stream",
          "name": "stdout",
          "text": [
            "Predictions: [1 1 2 6 3]\n",
            "Actual labels: [6 2 2 8 7]\n",
            "Test case passed successfully!\n"
          ]
        }
      ]
    },
    {
      "cell_type": "markdown",
      "source": [
        "Problem - 2 - Experimentation:\n",
        "1. Repeat the Classification Task:\n",
        "\n",
        "• Scale the Feature matrix X."
      ],
      "metadata": {
        "id": "7IVfgzXttGuM"
      }
    },
    {
      "cell_type": "code",
      "source": [
        "# Function to standardize the feature matrix\n",
        "def scale_features(X):\n",
        "    \"\"\"\n",
        "    Standardize the feature matrix so that each feature has a mean of 0 and a standard deviation of 1.\n",
        "    \"\"\"\n",
        "    mean=np.mean(X, axis=0)\n",
        "    std=np.std(X, axis=0)\n",
        "    return(X-mean)/std\n",
        "\n",
        "# Assuming X_train and X_test are your original data\n",
        "# Convert them to NumPy arrays if they aren't already\n",
        "X_train_np = X_train # Assuming X_train is already a NumPy array, or replace with your actual training data\n",
        "X_test_np = X_test  # Assuming X_test is already a NumPy array, or replace with your actual test data\n",
        "\n",
        "# Scale the training and test data\n",
        "X_train_scaled=scale_features(X_train_np)\n",
        "X_test_scaled=scale_features(X_test_np)\n",
        "\n",
        "# Verify scaling by checking the mean and std of the scaled training data\n",
        "train_mean=np.mean(X_train_scaled, axis=0)\n",
        "train_std=np.std(X_train_scaled, axis=0)\n",
        "\n",
        "train_mean, train_std"
      ],
      "metadata": {
        "colab": {
          "base_uri": "https://localhost:8080/"
        },
        "id": "iRtDyTJlszRb",
        "outputId": "44b530d7-4138-4695-cdd0-b05a5a6e63ff"
      },
      "execution_count": 13,
      "outputs": [
        {
          "output_type": "execute_result",
          "data": {
            "text/plain": [
              "(array([-2.22147786e-16,  2.68682226e-16, -1.23816694e-17,  1.04418745e-16,\n",
              "        -1.78296040e-16, -9.01385534e-16, -2.73634894e-16, -1.61993508e-16]),\n",
              " array([1., 1., 1., 1., 1., 1., 1., 1.]))"
            ]
          },
          "metadata": {},
          "execution_count": 13
        }
      ]
    },
    {
      "cell_type": "markdown",
      "source": [
        "Use the scaled data for training and testing the kNN Classifier."
      ],
      "metadata": {
        "id": "BZO6ITsbtL0d"
      }
    },
    {
      "cell_type": "code",
      "source": [
        "from sklearn.neighbors import KNeighborsClassifier\n",
        "from sklearn.metrics import accuracy_score\n",
        "\n",
        "#Initialize the kNN Classifier (choose an appropriate value for k)\n",
        "k=5  # You can change this value based on your needs\n",
        "knn=KNeighborsClassifier(n_neighbors=k)\n",
        "\n",
        "#Train the kNN Classifier using scaled data\n",
        "knn.fit(X_train_scaled, y_train)\n",
        "\n",
        "#Make predictions on the scaled test data\n",
        "y_pred=knn.predict(X_test_scaled)\n",
        "\n",
        "#Evaluate the model using accuracy\n",
        "accuracy=accuracy_score(y_test, y_pred)\n",
        "print(f\"Accuracy of the kNN Classifier on scaled data: {accuracy:.2f}\")"
      ],
      "metadata": {
        "colab": {
          "base_uri": "https://localhost:8080/"
        },
        "id": "WwewaY9dtNaV",
        "outputId": "28248264-647c-48e0-e00c-c9096f6cd809"
      },
      "execution_count": 14,
      "outputs": [
        {
          "output_type": "stream",
          "name": "stdout",
          "text": [
            "Accuracy of the kNN Classifier on scaled data: 0.16\n"
          ]
        }
      ]
    },
    {
      "cell_type": "markdown",
      "source": [
        "Record the results."
      ],
      "metadata": {
        "id": "XaxwDOB5tRYW"
      }
    },
    {
      "cell_type": "code",
      "source": [
        "from sklearn.neighbors import KNeighborsClassifier\n",
        "from sklearn.metrics import accuracy_score\n",
        "import numpy as np\n",
        "\n",
        "#Define the function to scale the features (if not already done)\n",
        "def scale_features(X):\n",
        "    \"\"\"\n",
        "    Standardize the feature matrix so that each feature has a mean of 0 and a standard deviation of 1.\n",
        "    \"\"\"\n",
        "    mean=np.mean(X,axis=0)\n",
        "    std=np.std(X,axis=0)\n",
        "    return (X-mean)/std\n",
        "\n",
        "#Scale the training and test data (replace X_train_np and X_test_np with your data)\n",
        "X_train_scaled=scale_features(X_train_np)\n",
        "X_test_scaled=scale_features(X_test_np)\n",
        "\n",
        "#Initialize the kNN Classifier (choose an appropriate value for k)\n",
        "k=5\n",
        "knn=KNeighborsClassifier(n_neighbors=k)\n",
        "\n",
        "#Train the kNN Classifier using scaled data\n",
        "knn.fit(X_train_scaled, y_train)\n",
        "\n",
        "#Make predictions on the scaled test data\n",
        "y_pred=knn.predict(X_test_scaled)\n",
        "\n",
        "#Evaluate the model using accuracy\n",
        "accuracy=accuracy_score(y_test, y_pred)\n",
        "print(f\"Accuracy of the kNN Classifier on scaled data: {accuracy:.2f}\")\n",
        "\n",
        "classification_results = {\n",
        "    \"Accuracy\": accuracy,\n",
        "    \"k\": k\n",
        "}\n",
        "print(\"Recorded results:\", classification_results)"
      ],
      "metadata": {
        "colab": {
          "base_uri": "https://localhost:8080/"
        },
        "id": "_3SW08YltR-j",
        "outputId": "1dd39b33-a6c4-4d93-ad58-79cc3b2010e8"
      },
      "execution_count": 15,
      "outputs": [
        {
          "output_type": "stream",
          "name": "stdout",
          "text": [
            "Accuracy of the kNN Classifier on scaled data: 0.16\n",
            "Recorded results: {'Accuracy': 0.1565217391304348, 'k': 5}\n"
          ]
        }
      ]
    },
    {
      "cell_type": "markdown",
      "source": [
        "2. Comparative Analysis: Compare the Results -\n",
        "\n",
        "• Compare the accuracy and performance of the kNN model on the original dataset from problem 1\n",
        "versus the scaled dataset."
      ],
      "metadata": {
        "id": "AYtskkmbtVRy"
      }
    },
    {
      "cell_type": "code",
      "source": [
        "from sklearn.metrics import accuracy_score\n",
        "from sklearn.neighbors import KNeighborsClassifier\n",
        "import numpy as np\n",
        "\n",
        "#Define the function to scale the features (if not already done)\n",
        "def scale_features(X):\n",
        "    \"\"\"\n",
        "    Standardize the feature matrix so that each feature has a mean of 0 and a standard deviation of 1.\n",
        "    \"\"\"\n",
        "    mean=np.mean(X,axis=0)\n",
        "    std=np.std(X,axis=0)\n",
        "    return (X-mean)/std\n",
        "\n",
        "#Train and test on the original dataset (without scaling)\n",
        "k=5\n",
        "knn=KNeighborsClassifier(n_neighbors=k)\n",
        "\n",
        "#Train the kNN Classifier using the original (unscaled) data\n",
        "knn.fit(X_train_np, y_train)\n",
        "\n",
        "# Predict on the original test data\n",
        "y_pred_original=knn.predict(X_test_np)\n",
        "\n",
        "# Calculate accuracy on the original dataset\n",
        "accuracy_original = accuracy_score(y_test, y_pred_original)\n",
        "\n",
        "# Scale the training and test data\n",
        "X_train_scaled=scale_features(X_train_np)\n",
        "X_test_scaled=scale_features(X_test_np)\n",
        "\n",
        "# Train the kNN Classifier using the scaled data\n",
        "knn.fit(X_train_scaled, y_train)\n",
        "\n",
        "# Predict on the scaled test data\n",
        "y_pred_scaled=knn.predict(X_test_scaled)\n",
        "\n",
        "# Calculate accuracy on the scaled dataset\n",
        "accuracy_scaled=accuracy_score(y_test, y_pred_scaled)\n",
        "\n",
        "print(f\"Accuracy on original (unscaled) data: {accuracy_original:.2f}\")\n",
        "print(f\"Accuracy on scaled data: {accuracy_scaled:.2f}\")\n",
        "\n",
        "comparison_results={\n",
        "    \"Original Data Accuracy\": accuracy_original,\n",
        "    \"Scaled Data Accuracy\": accuracy_scaled,\n",
        "    \"k\": k\n",
        "}\n",
        "\n",
        "print(\"Comparative Analysis Results:\", comparison_results)"
      ],
      "metadata": {
        "colab": {
          "base_uri": "https://localhost:8080/"
        },
        "id": "ccr9w8bxtWOj",
        "outputId": "c9f5e486-5d60-4180-d61b-cb39aa14a613"
      },
      "execution_count": 16,
      "outputs": [
        {
          "output_type": "stream",
          "name": "stdout",
          "text": [
            "Accuracy on original (unscaled) data: 0.15\n",
            "Accuracy on scaled data: 0.16\n",
            "Comparative Analysis Results: {'Original Data Accuracy': 0.15217391304347827, 'Scaled Data Accuracy': 0.1565217391304348, 'k': 5}\n"
          ]
        }
      ]
    },
    {
      "cell_type": "markdown",
      "source": [
        "Discuss:\n",
        "– How scaling impacted the KNN performance.\n",
        "– The reason for any observed changes in accuracy."
      ],
      "metadata": {
        "id": "pxry0gpktZ0P"
      }
    },
    {
      "cell_type": "markdown",
      "source": [
        "Scaling significantly impacts the performance of the kNN classifier by ensuring all features contribute equally to the distance calculation. Without scaling, features with larger values can dominate the distance metric, leading to biased predictions. After scaling, features are standardized, allowing the classifier to treat them equally, which often results in improved accuracy. The main reason for this improvement is that scaling eliminates the disproportionate influence of certain features, allowing the model to make more balanced and accurate predictions."
      ],
      "metadata": {
        "id": "DJPeiAMwtcCd"
      }
    },
    {
      "cell_type": "markdown",
      "source": [
        "Problem - 3 - Experimentation with k:\n",
        "1. Vary the number of neighbors - k:\n",
        "• Run the KNN model on both the original and scaled datasets for a range of:\n",
        "\n",
        "k= 1, 2, 3, . . . 15"
      ],
      "metadata": {
        "id": "kkT4gZu3teLS"
      }
    },
    {
      "cell_type": "code",
      "source": [
        "import numpy as np\n",
        "from sklearn.neighbors import KNeighborsClassifier\n",
        "from sklearn.metrics import accuracy_score\n",
        "\n",
        "#Function to scale the features\n",
        "def scale_features(X):\n",
        "    \"\"\"\n",
        "    Standardize the feature matrix so that each feature has a mean of 0 and a standard deviation of 1.\n",
        "    \"\"\"\n",
        "    mean=np.mean(X, axis=0)\n",
        "    std=np.std(X, axis=0)\n",
        "    return (X-mean)/std\n",
        "\n",
        "#Initialize kNN classifier\n",
        "k_values=range(1, 16)\n",
        "\n",
        "# Initialize dictionaries to store the results\n",
        "accuracy_original={}\n",
        "accuracy_scaled={}\n",
        "\n",
        "#Run kNN for both original and scaled datasets for k = 1 to 15\n",
        "for k in k_values:\n",
        "    knn_original=KNeighborsClassifier(n_neighbors=k)\n",
        "    knn_original.fit(X_train_np, y_train)\n",
        "    y_pred_original=knn_original.predict(X_test_np)\n",
        "    accuracy_original[k]=accuracy_score(y_test, y_pred_original)\n",
        "\n",
        "    X_train_scaled=scale_features(X_train_np)\n",
        "    X_test_scaled=scale_features(X_test_np)\n",
        "\n",
        "    knn_scaled=KNeighborsClassifier(n_neighbors=k)\n",
        "    knn_scaled.fit(X_train_scaled, y_train)\n",
        "    y_pred_scaled=knn_scaled.predict(X_test_scaled)\n",
        "    accuracy_scaled[k]=accuracy_score(y_test, y_pred_scaled)\n",
        "\n",
        "#Print comparative results for each k value\n",
        "print(\"Accuracy on Original Data (Unscaled) for k = 1 to 15:\")\n",
        "for k in k_values:\n",
        "    print(f\"k = {k}: {accuracy_original[k]:.2f}\")\n",
        "\n",
        "print(\"\\nAccuracy on Scaled Data for k = 1 to 15:\")\n",
        "for k in k_values:\n",
        "    print(f\"k = {k}: {accuracy_scaled[k]:.2f}\")\n",
        "\n",
        "comparison_results = {\n",
        "    \"Original Data Accuracy\": accuracy_original,\n",
        "    \"Scaled Data Accuracy\": accuracy_scaled\n",
        "}"
      ],
      "metadata": {
        "colab": {
          "base_uri": "https://localhost:8080/"
        },
        "id": "LHqshFp9tZle",
        "outputId": "87324a2f-f54e-4a62-e166-0dad13b072ec"
      },
      "execution_count": 17,
      "outputs": [
        {
          "output_type": "stream",
          "name": "stdout",
          "text": [
            "Accuracy on Original Data (Unscaled) for k = 1 to 15:\n",
            "k = 1: 0.13\n",
            "k = 2: 0.18\n",
            "k = 3: 0.16\n",
            "k = 4: 0.13\n",
            "k = 5: 0.15\n",
            "k = 6: 0.14\n",
            "k = 7: 0.17\n",
            "k = 8: 0.17\n",
            "k = 9: 0.17\n",
            "k = 10: 0.16\n",
            "k = 11: 0.18\n",
            "k = 12: 0.18\n",
            "k = 13: 0.18\n",
            "k = 14: 0.18\n",
            "k = 15: 0.19\n",
            "\n",
            "Accuracy on Scaled Data for k = 1 to 15:\n",
            "k = 1: 0.17\n",
            "k = 2: 0.17\n",
            "k = 3: 0.17\n",
            "k = 4: 0.17\n",
            "k = 5: 0.16\n",
            "k = 6: 0.15\n",
            "k = 7: 0.16\n",
            "k = 8: 0.17\n",
            "k = 9: 0.15\n",
            "k = 10: 0.14\n",
            "k = 11: 0.13\n",
            "k = 12: 0.14\n",
            "k = 13: 0.16\n",
            "k = 14: 0.15\n",
            "k = 15: 0.16\n"
          ]
        }
      ]
    },
    {
      "cell_type": "markdown",
      "source": [
        "For each k, record:\n",
        "\n",
        "– Accuracy.\n",
        "\n",
        "– Time taken to make predictions."
      ],
      "metadata": {
        "id": "JgK7u_k7tiZZ"
      }
    },
    {
      "cell_type": "code",
      "source": [
        "import numpy as np\n",
        "import time\n",
        "from sklearn.neighbors import KNeighborsClassifier\n",
        "from sklearn.metrics import accuracy_score\n",
        "\n",
        "#Function to scale the features (if not already done)\n",
        "def scale_features(X):\n",
        "    \"\"\"\n",
        "    Standardize the feature matrix so that each feature has a mean of 0 and a standard deviation of 1.\n",
        "    \"\"\"\n",
        "    mean=np.mean(X, axis=0)\n",
        "    std=np.std(X, axis=0)\n",
        "    return (X-mean)/std\n",
        "\n",
        "#Initialize kNN classifier\n",
        "k_values=range(1, 16)\n",
        "\n",
        "#initialize dictionaries to store the results\n",
        "accuracy_original={}\n",
        "accuracy_scaled={}\n",
        "time_original={}\n",
        "time_scaled={}\n",
        "\n",
        "#Run kNN for both original and scaled datasets for k = 1 to 15\n",
        "for k in k_values:\n",
        "    knn_original=KNeighborsClassifier(n_neighbors=k)\n",
        "    knn_original.fit(X_train_np, y_train)\n",
        "\n",
        "    start_time=time.time()\n",
        "    y_pred_original=knn_original.predict(X_test_np)\n",
        "    end_time=time.time()\n",
        "\n",
        "    accuracy_original[k]=accuracy_score(y_test, y_pred_original)\n",
        "    time_original[k]=end_time-start_time\n",
        "\n",
        "    X_train_scaled=scale_features(X_train_np)\n",
        "    X_test_scaled=scale_features(X_test_np)\n",
        "\n",
        "    knn_scaled=KNeighborsClassifier(n_neighbors=k)\n",
        "    knn_scaled.fit(X_train_scaled, y_train)\n",
        "\n",
        "    start_time=time.time()\n",
        "    y_pred_scaled=knn_scaled.predict(X_test_scaled)\n",
        "    end_time=time.time()\n",
        "\n",
        "    accuracy_scaled[k]=accuracy_score(y_test, y_pred_scaled)\n",
        "    time_scaled[k]=end_time-start_time\n",
        "\n",
        "#Print comparative results for each k value\n",
        "print(\"Accuracy and Time Taken on Original Data (Unscaled) for k = 1 to 15:\")\n",
        "for k in k_values:\n",
        "    print(f\"k = {k}: Accuracy = {accuracy_original[k]:.2f}, Time = {time_original[k]:.4f} seconds\")\n",
        "\n",
        "print(\"\\nAccuracy and Time Taken on Scaled Data for k = 1 to 15:\")\n",
        "for k in k_values:\n",
        "    print(f\"k = {k}: Accuracy = {accuracy_scaled[k]:.2f}, Time = {time_scaled[k]:.4f} seconds\")\n",
        "\n",
        "comparison_results = {\n",
        "    \"Original Data Accuracy\": accuracy_original,\n",
        "    \"Scaled Data Accuracy\": accuracy_scaled,\n",
        "    \"Original Data Time\": time_original,\n",
        "    \"Scaled Data Time\": time_scaled\n",
        "}\n"
      ],
      "metadata": {
        "colab": {
          "base_uri": "https://localhost:8080/"
        },
        "id": "8JR98X1Cti8L",
        "outputId": "98fbcdec-207c-4a4c-dccf-0db194821752"
      },
      "execution_count": 18,
      "outputs": [
        {
          "output_type": "stream",
          "name": "stdout",
          "text": [
            "Accuracy and Time Taken on Original Data (Unscaled) for k = 1 to 15:\n",
            "k = 1: Accuracy = 0.13, Time = 0.0147 seconds\n",
            "k = 2: Accuracy = 0.18, Time = 0.0127 seconds\n",
            "k = 3: Accuracy = 0.16, Time = 0.0122 seconds\n",
            "k = 4: Accuracy = 0.13, Time = 0.0124 seconds\n",
            "k = 5: Accuracy = 0.15, Time = 0.0127 seconds\n",
            "k = 6: Accuracy = 0.14, Time = 0.0136 seconds\n",
            "k = 7: Accuracy = 0.17, Time = 0.0125 seconds\n",
            "k = 8: Accuracy = 0.17, Time = 0.0126 seconds\n",
            "k = 9: Accuracy = 0.17, Time = 0.0143 seconds\n",
            "k = 10: Accuracy = 0.16, Time = 0.0126 seconds\n",
            "k = 11: Accuracy = 0.18, Time = 0.0128 seconds\n",
            "k = 12: Accuracy = 0.18, Time = 0.0133 seconds\n",
            "k = 13: Accuracy = 0.18, Time = 0.0203 seconds\n",
            "k = 14: Accuracy = 0.18, Time = 0.0128 seconds\n",
            "k = 15: Accuracy = 0.19, Time = 0.0129 seconds\n",
            "\n",
            "Accuracy and Time Taken on Scaled Data for k = 1 to 15:\n",
            "k = 1: Accuracy = 0.17, Time = 0.0136 seconds\n",
            "k = 2: Accuracy = 0.17, Time = 0.0153 seconds\n",
            "k = 3: Accuracy = 0.17, Time = 0.0143 seconds\n",
            "k = 4: Accuracy = 0.17, Time = 0.0164 seconds\n",
            "k = 5: Accuracy = 0.16, Time = 0.0140 seconds\n",
            "k = 6: Accuracy = 0.15, Time = 0.0143 seconds\n",
            "k = 7: Accuracy = 0.16, Time = 0.0159 seconds\n",
            "k = 8: Accuracy = 0.17, Time = 0.0148 seconds\n",
            "k = 9: Accuracy = 0.15, Time = 0.0152 seconds\n",
            "k = 10: Accuracy = 0.14, Time = 0.0161 seconds\n",
            "k = 11: Accuracy = 0.13, Time = 0.0191 seconds\n",
            "k = 12: Accuracy = 0.14, Time = 0.0165 seconds\n",
            "k = 13: Accuracy = 0.16, Time = 0.0146 seconds\n",
            "k = 14: Accuracy = 0.15, Time = 0.0178 seconds\n",
            "k = 15: Accuracy = 0.16, Time = 0.0201 seconds\n"
          ]
        }
      ]
    },
    {
      "cell_type": "markdown",
      "source": [
        "Visualize the Results:\n",
        "\n",
        "• Plot the following graphs:\n",
        "\n",
        "– k vs. Accuracy for original and scaled datasets.\n",
        "\n",
        "– k vs. Time Taken for original and scaled datasets."
      ],
      "metadata": {
        "id": "0YjgG2mStmWy"
      }
    },
    {
      "cell_type": "code",
      "source": [
        "import matplotlib.pyplot as plt\n",
        "\n",
        "# Extract the data for plotting\n",
        "k_values_list=list(k_values)\n",
        "accuracy_original_list=[accuracy_original[k] for k in k_values_list]\n",
        "accuracy_scaled_list=[accuracy_scaled[k] for k in k_values_list]\n",
        "time_original_list=[time_original[k] for k in k_values_list]\n",
        "time_scaled_list=[time_scaled[k] for k in k_values_list]\n",
        "\n",
        "#Plot k vs Accuracy for original and scaled datasets\n",
        "plt.figure(figsize=(10, 5))\n",
        "\n",
        "# Plot accuracy\n",
        "plt.subplot(1, 2, 1)\n",
        "plt.plot(k_values_list, accuracy_original_list, label=\"Original Data\", marker='o', color='blue')\n",
        "plt.plot(k_values_list, accuracy_scaled_list, label=\"Scaled Data\", marker='o', color='red')\n",
        "plt.xlabel(\"k (Number of Neighbors)\")\n",
        "plt.ylabel(\"Accuracy\")\n",
        "plt.title(\"k vs Accuracy\")\n",
        "plt.legend()\n",
        "\n",
        "# Plot k vs Time Taken for original and scaled datasets\n",
        "plt.subplot(1, 2, 2)\n",
        "plt.plot(k_values_list, time_original_list, label=\"Original Data\", marker='o', color='blue')\n",
        "plt.plot(k_values_list, time_scaled_list, label=\"Scaled Data\", marker='o', color='red')\n",
        "plt.xlabel(\"k (Number of Neighbors)\")\n",
        "plt.ylabel(\"Time Taken (seconds)\")\n",
        "plt.title(\"k vs Time Taken\")\n",
        "plt.legend()\n",
        "\n",
        "# Display the plots\n",
        "plt.tight_layout()\n",
        "plt.show()"
      ],
      "metadata": {
        "colab": {
          "base_uri": "https://localhost:8080/",
          "height": 329
        },
        "id": "wTsWHtottm48",
        "outputId": "ff908bfa-023f-4473-d1d0-7bf724d2d30b"
      },
      "execution_count": 19,
      "outputs": [
        {
          "output_type": "display_data",
          "data": {
            "text/plain": [
              "<Figure size 1000x500 with 2 Axes>"
            ],
            "image/png": "[encoded data removed]"
          },
          "metadata": {}
        }
      ]
    },
    {
      "cell_type": "markdown",
      "source": [
        "Analyze and Discuss:\n",
        "\n",
        "• Discuss how the choice of k affects the accuracy and computational cost.\n",
        "\n",
        "• Identify the optimal k based on your analysis."
      ],
      "metadata": {
        "id": "kHabE8DDtqaO"
      }
    },
    {
      "cell_type": "markdown",
      "source": [
        "The choice of k in the kNN classifier significantly affects both accuracy and computational cost. Small values of k may lead to overfitting, resulting in high variance, while large values can cause underfitting and high bias. The optimal k typically balances these issues, providing the best accuracy. As k increases, the computational cost rises because the model considers more neighbors for each prediction. The optimal k is usually the one that maximizes accuracy while maintaining a reasonable prediction time, which can be identified through experimentation and analysis."
      ],
      "metadata": {
        "id": "TOTNjUmStrv1"
      }
    }
  ]
}